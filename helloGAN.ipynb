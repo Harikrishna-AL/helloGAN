{
  "cells": [
    {
      "cell_type": "code",
      "execution_count": null,
      "metadata": {
        "id": "oF1CebKJP3d0"
      },
      "outputs": [],
      "source": [
        "import torch \n",
        "import torch.nn as nn\n",
        "import torchvision.transforms as transforms\n",
        "import torch.optim as optim\n",
        "import torchvision.datasets as datasets\n",
        "import imageio\n",
        "import numpy as np\n",
        "import matplotlib\n",
        "\n",
        "from torchvision.utils import make_grid, save_image\n",
        "from torch.utils.data import DataLoader\n",
        "from matplotlib import pyplot as plt\n",
        "from tqdm import tqdm\n",
        "matplotlib.style.use('ggplot')"
      ]
    },
    {
      "cell_type": "code",
      "execution_count": null,
      "metadata": {
        "id": "PhdwCKrOohZ9"
      },
      "outputs": [],
      "source": [
        "batch_size = 1000\n",
        "epochs = 200\n",
        "sample_size = 64\n",
        "nz = 28*28\n",
        "k = 1\n",
        "device = torch.device('cuda' if torch.cuda.is_available() else 'cpu')"
      ]
    },
    {
      "cell_type": "code",
      "execution_count": null,
      "metadata": {
        "id": "dVbR0FvWpE8E"
      },
      "outputs": [],
      "source": [
        "# from torchvision.transforms.func/tional import to_pil_image\n",
        "transform = transforms.Compose([\n",
        "    transforms.ToTensor(),\n",
        "    transforms.Normalize((0.5,),(0.5,)),\n",
        "])\n",
        "to_pil_image = transforms.ToPILImage()\n"
      ]
    },
    {
      "cell_type": "code",
      "execution_count": null,
      "metadata": {
        "id": "nAtrQchXpgkL"
      },
      "outputs": [],
      "source": [
        "train_data = datasets.MNIST(\n",
        "    root='../input/data',\n",
        "    train=True,\n",
        "    download=True,\n",
        "    transform=transform\n",
        ")\n",
        "train_loader = DataLoader(train_data,batch_size=batch_size,shuffle=True)"
      ]
    },
    {
      "cell_type": "code",
      "execution_count": null,
      "metadata": {
        "colab": {
          "base_uri": "https://localhost:8080/",
          "height": 1000
        },
        "id": "Zzu3xVd4huTT",
        "outputId": "0ed05244-6ced-4d8c-a08c-eedfe3b7be11"
      },
      "outputs": [
        {
          "name": "stdout",
          "output_type": "stream",
          "text": [
            "Feature batch shape: torch.Size([1000, 1, 28, 28])\n",
            "Labels batch shape: torch.Size([1000])\n",
            "tensor([[-1.0000, -1.0000, -1.0000, -1.0000, -1.0000, -1.0000, -1.0000, -1.0000,\n",
            "         -1.0000, -1.0000, -1.0000, -1.0000, -1.0000, -1.0000, -1.0000, -1.0000,\n",
            "         -1.0000, -1.0000, -1.0000, -1.0000, -1.0000, -1.0000, -1.0000, -1.0000,\n",
            "         -1.0000, -1.0000, -1.0000, -1.0000],\n",
            "        [-1.0000, -1.0000, -1.0000, -1.0000, -1.0000, -1.0000, -1.0000, -1.0000,\n",
            "         -1.0000, -1.0000, -1.0000, -1.0000, -1.0000, -1.0000, -1.0000, -1.0000,\n",
            "         -1.0000, -1.0000, -1.0000, -1.0000, -1.0000, -1.0000, -1.0000, -1.0000,\n",
            "         -1.0000, -1.0000, -1.0000, -1.0000],\n",
            "        [-1.0000, -1.0000, -1.0000, -1.0000, -1.0000, -1.0000, -1.0000, -1.0000,\n",
            "         -1.0000, -1.0000, -1.0000, -1.0000, -1.0000, -1.0000, -1.0000, -1.0000,\n",
            "         -1.0000, -1.0000, -1.0000, -1.0000, -1.0000, -1.0000, -1.0000, -1.0000,\n",
            "         -1.0000, -1.0000, -1.0000, -1.0000],\n",
            "        [-1.0000, -1.0000, -1.0000, -1.0000, -1.0000, -1.0000, -1.0000, -1.0000,\n",
            "         -1.0000, -1.0000, -1.0000, -1.0000, -1.0000, -1.0000, -1.0000, -1.0000,\n",
            "         -1.0000, -1.0000, -1.0000, -1.0000, -1.0000, -1.0000, -1.0000, -1.0000,\n",
            "         -1.0000, -1.0000, -1.0000, -1.0000],\n",
            "        [-1.0000, -1.0000, -1.0000, -1.0000, -1.0000, -1.0000, -1.0000, -1.0000,\n",
            "         -1.0000, -1.0000, -1.0000, -1.0000, -1.0000, -1.0000, -1.0000, -1.0000,\n",
            "         -1.0000, -1.0000, -1.0000, -1.0000, -1.0000, -1.0000, -1.0000, -1.0000,\n",
            "         -1.0000, -1.0000, -1.0000, -1.0000],\n",
            "        [-1.0000, -1.0000, -1.0000, -1.0000, -1.0000, -1.0000, -1.0000, -1.0000,\n",
            "         -1.0000, -1.0000, -1.0000, -1.0000, -1.0000, -1.0000, -1.0000, -1.0000,\n",
            "         -1.0000, -1.0000,  0.1843,  0.9843,  0.7647, -0.2000, -1.0000, -1.0000,\n",
            "         -1.0000, -1.0000, -1.0000, -1.0000],\n",
            "        [-1.0000, -1.0000, -1.0000, -1.0000, -1.0000, -1.0000, -1.0000, -1.0000,\n",
            "         -1.0000, -1.0000, -1.0000, -1.0000, -1.0000, -1.0000, -1.0000, -1.0000,\n",
            "         -1.0000, -0.6863,  0.7490,  0.9765,  0.9765, -0.3255, -1.0000, -1.0000,\n",
            "         -1.0000, -1.0000, -1.0000, -1.0000],\n",
            "        [-1.0000, -1.0000, -1.0000, -1.0000, -1.0000, -1.0000, -1.0000, -1.0000,\n",
            "         -1.0000, -1.0000, -1.0000, -0.8275, -0.6157, -1.0000, -1.0000, -1.0000,\n",
            "         -0.6863,  0.1922,  0.9765,  0.9765,  0.9765,  0.1686, -1.0000, -1.0000,\n",
            "         -1.0000, -1.0000, -1.0000, -1.0000],\n",
            "        [-1.0000, -1.0000, -1.0000, -1.0000, -1.0000, -1.0000, -1.0000, -1.0000,\n",
            "         -1.0000, -1.0000, -1.0000, -1.0000, -1.0000, -1.0000, -1.0000, -1.0000,\n",
            "          0.1686,  0.9765,  0.9765,  0.9765,  0.6235, -0.8980, -1.0000, -1.0000,\n",
            "         -1.0000, -1.0000, -1.0000, -1.0000],\n",
            "        [-1.0000, -1.0000, -1.0000, -1.0000, -1.0000, -1.0000, -1.0000, -1.0000,\n",
            "         -1.0000, -1.0000, -1.0000, -1.0000, -1.0000, -1.0000, -1.0000, -0.7490,\n",
            "          0.9059,  0.9765,  0.9765,  0.8353, -0.4039, -1.0000, -1.0000, -1.0000,\n",
            "         -1.0000, -1.0000, -1.0000, -1.0000],\n",
            "        [-1.0000, -1.0000, -1.0000, -1.0000, -1.0000, -1.0000, -1.0000, -1.0000,\n",
            "         -1.0000, -1.0000, -1.0000, -1.0000, -1.0000, -1.0000, -1.0000,  0.7176,\n",
            "          0.9765,  0.9765,  0.9765,  0.4510, -1.0000, -1.0000, -1.0000, -1.0000,\n",
            "         -1.0000, -1.0000, -1.0000, -1.0000],\n",
            "        [-1.0000, -1.0000, -1.0000, -1.0000, -1.0000, -1.0000, -1.0000, -1.0000,\n",
            "         -1.0000, -1.0000, -1.0000, -1.0000, -1.0000, -1.0000, -0.2784,  0.9843,\n",
            "          0.9765,  0.9765,  0.9765, -0.2627, -1.0000, -1.0000, -1.0000, -1.0000,\n",
            "         -1.0000, -1.0000, -1.0000, -1.0000],\n",
            "        [-1.0000, -1.0000, -1.0000, -1.0000, -1.0000, -1.0000, -1.0000, -1.0000,\n",
            "         -1.0000, -1.0000, -1.0000, -1.0000, -1.0000, -0.8196,  0.6314,  0.9843,\n",
            "          0.9765,  0.9765, -0.0824, -0.8431, -1.0000, -1.0000, -1.0000, -1.0000,\n",
            "         -1.0000, -1.0000, -1.0000, -1.0000],\n",
            "        [-1.0000, -1.0000, -1.0000, -1.0000, -1.0000, -1.0000, -1.0000, -1.0000,\n",
            "         -1.0000, -1.0000, -1.0000, -1.0000, -0.9294,  0.1922,  0.9765,  0.9843,\n",
            "          0.9765,  0.8824, -0.7098, -1.0000, -1.0000, -1.0000, -1.0000, -1.0000,\n",
            "         -1.0000, -1.0000, -1.0000, -1.0000],\n",
            "        [-1.0000, -1.0000, -1.0000, -1.0000, -1.0000, -1.0000, -1.0000, -1.0000,\n",
            "         -1.0000, -1.0000, -1.0000, -1.0000, -0.2941,  0.9765,  0.9765,  0.9843,\n",
            "          0.9765, -0.2392, -1.0000, -1.0000, -1.0000, -1.0000, -1.0000, -1.0000,\n",
            "         -1.0000, -1.0000, -1.0000, -1.0000],\n",
            "        [-1.0000, -1.0000, -1.0000, -1.0000, -1.0000, -1.0000, -1.0000, -1.0000,\n",
            "         -1.0000, -1.0000, -1.0000, -0.8431,  0.6000,  0.9843,  0.9843,  1.0000,\n",
            "          0.9843, -0.7961, -1.0000, -1.0000, -1.0000, -1.0000, -1.0000, -1.0000,\n",
            "         -1.0000, -1.0000, -1.0000, -1.0000],\n",
            "        [-1.0000, -1.0000, -1.0000, -1.0000, -1.0000, -1.0000, -1.0000, -1.0000,\n",
            "         -1.0000, -1.0000, -1.0000, -0.8118,  0.6706,  0.9765,  0.9765,  0.9843,\n",
            "          0.5294, -0.9059, -1.0000, -1.0000, -1.0000, -1.0000, -1.0000, -1.0000,\n",
            "         -1.0000, -1.0000, -1.0000, -1.0000],\n",
            "        [-1.0000, -1.0000, -1.0000, -1.0000, -1.0000, -1.0000, -1.0000, -1.0000,\n",
            "         -1.0000, -1.0000, -1.0000,  0.2235,  0.9059,  0.9765,  0.9765,  0.6392,\n",
            "         -0.7490, -0.9765, -1.0000, -1.0000, -1.0000, -1.0000, -1.0000, -1.0000,\n",
            "         -1.0000, -1.0000, -1.0000, -1.0000],\n",
            "        [-1.0000, -1.0000, -1.0000, -1.0000, -1.0000, -1.0000, -1.0000, -1.0000,\n",
            "         -1.0000, -1.0000,  0.2392,  0.8824,  0.9765,  0.9765,  0.9765, -0.8353,\n",
            "         -1.0000, -1.0000, -1.0000, -1.0000, -1.0000, -1.0000, -1.0000, -1.0000,\n",
            "         -1.0000, -1.0000, -1.0000, -1.0000],\n",
            "        [-1.0000, -1.0000, -1.0000, -1.0000, -1.0000, -1.0000, -1.0000, -1.0000,\n",
            "         -1.0000, -0.7176,  0.7333,  0.9765,  0.9765,  0.9765,  0.1451, -1.0000,\n",
            "         -1.0000, -1.0000, -1.0000, -1.0000, -1.0000, -1.0000, -1.0000, -1.0000,\n",
            "         -1.0000, -1.0000, -1.0000, -1.0000],\n",
            "        [-1.0000, -1.0000, -1.0000, -1.0000, -1.0000, -1.0000, -1.0000, -1.0000,\n",
            "         -0.6627,  0.3725,  0.8431,  0.9765,  0.9765,  0.3412, -0.7569, -1.0000,\n",
            "         -1.0000, -1.0000, -1.0000, -1.0000, -1.0000, -1.0000, -1.0000, -1.0000,\n",
            "         -1.0000, -1.0000, -1.0000, -1.0000],\n",
            "        [-1.0000, -1.0000, -1.0000, -1.0000, -1.0000, -1.0000, -1.0000, -1.0000,\n",
            "         -0.8980,  0.6314,  0.9765,  0.9765,  0.7725,  0.0196, -1.0000, -1.0000,\n",
            "         -1.0000, -1.0000, -1.0000, -1.0000, -1.0000, -1.0000, -1.0000, -1.0000,\n",
            "         -1.0000, -1.0000, -1.0000, -1.0000],\n",
            "        [-1.0000, -1.0000, -1.0000, -1.0000, -1.0000, -1.0000, -1.0000, -1.0000,\n",
            "         -0.7020,  0.7569,  0.9765,  0.9765, -0.2706, -1.0000, -1.0000, -1.0000,\n",
            "         -1.0000, -1.0000, -1.0000, -1.0000, -1.0000, -1.0000, -1.0000, -1.0000,\n",
            "         -1.0000, -1.0000, -1.0000, -1.0000],\n",
            "        [-1.0000, -1.0000, -1.0000, -1.0000, -1.0000, -1.0000, -1.0000, -1.0000,\n",
            "          0.1451,  0.9529,  0.9765,  0.2392, -0.6941, -1.0000, -1.0000, -1.0000,\n",
            "         -1.0000, -1.0000, -1.0000, -1.0000, -1.0000, -1.0000, -1.0000, -1.0000,\n",
            "         -1.0000, -1.0000, -1.0000, -1.0000],\n",
            "        [-1.0000, -1.0000, -1.0000, -1.0000, -1.0000, -1.0000, -1.0000, -1.0000,\n",
            "         -0.6627,  0.7804,  0.7569, -0.2157, -1.0000, -1.0000, -1.0000, -1.0000,\n",
            "         -1.0000, -1.0000, -1.0000, -1.0000, -1.0000, -1.0000, -1.0000, -1.0000,\n",
            "         -1.0000, -1.0000, -1.0000, -1.0000],\n",
            "        [-1.0000, -1.0000, -1.0000, -1.0000, -1.0000, -1.0000, -1.0000, -1.0000,\n",
            "         -1.0000, -1.0000, -1.0000, -1.0000, -1.0000, -1.0000, -1.0000, -1.0000,\n",
            "         -1.0000, -1.0000, -1.0000, -1.0000, -1.0000, -1.0000, -1.0000, -1.0000,\n",
            "         -1.0000, -1.0000, -1.0000, -1.0000],\n",
            "        [-1.0000, -1.0000, -1.0000, -1.0000, -1.0000, -1.0000, -1.0000, -1.0000,\n",
            "         -1.0000, -1.0000, -1.0000, -1.0000, -1.0000, -1.0000, -1.0000, -1.0000,\n",
            "         -1.0000, -1.0000, -1.0000, -1.0000, -1.0000, -1.0000, -1.0000, -1.0000,\n",
            "         -1.0000, -1.0000, -1.0000, -1.0000],\n",
            "        [-1.0000, -1.0000, -1.0000, -1.0000, -1.0000, -1.0000, -1.0000, -1.0000,\n",
            "         -1.0000, -1.0000, -1.0000, -1.0000, -1.0000, -1.0000, -1.0000, -1.0000,\n",
            "         -1.0000, -1.0000, -1.0000, -1.0000, -1.0000, -1.0000, -1.0000, -1.0000,\n",
            "         -1.0000, -1.0000, -1.0000, -1.0000]])\n"
          ]
        },
        {
          "data": {
            "image/png": "[encoded data removed]",
            "text/plain": [
              "<Figure size 432x288 with 1 Axes>"
            ]
          },
          "metadata": {},
          "output_type": "display_data"
        },
        {
          "name": "stdout",
          "output_type": "stream",
          "text": [
            "Label: 1\n"
          ]
        }
      ],
      "source": [
        "train_features, train_labels = next(iter(train_loader))\n",
        "print(f\"Feature batch shape: {train_features.size()}\")\n",
        "print(f\"Labels batch shape: {train_labels.size()}\")\n",
        "img = train_features[0].squeeze()\n",
        "label = train_labels[0]\n",
        "print(img)\n",
        "plt.imshow(img, cmap=\"gray\")\n",
        "plt.show()\n",
        "print(f\"Label: {label}\")"
      ]
    },
    {
      "cell_type": "code",
      "execution_count": null,
      "metadata": {
        "colab": {
          "base_uri": "https://localhost:8080/"
        },
        "id": "5GQmVQvnqRPy",
        "outputId": "c3e42ae6-1bbe-4577-f2ae-8a4d7cdc3451"
      },
      "outputs": [
        {
          "name": "stdout",
          "output_type": "stream",
          "text": [
            "60\n"
          ]
        }
      ],
      "source": [
        "print(len(train_loader))"
      ]
    },
    {
      "cell_type": "code",
      "execution_count": null,
      "metadata": {
        "id": "J71cAMo1qfbn"
      },
      "outputs": [],
      "source": [
        "class Generator(nn.Module):\n",
        "  def __init__(self,nz):\n",
        "    super(Generator,self).__init__()\n",
        "    self.nz=nz\n",
        "    self.main = nn.Sequential(\n",
        "        nn.Linear(self.nz,256),\n",
        "        nn.LeakyReLU(0.2),\n",
        "        nn.Linear(256,512),\n",
        "        nn.LeakyReLU(0.2),\n",
        "        nn.Linear(512,1024),\n",
        "        nn.LeakyReLU(0.2),\n",
        "        nn.Linear(1024,784),\n",
        "        nn.Sigmoid(),\n",
        "        \n",
        "    )\n",
        "\n",
        "  def forward(self,x):\n",
        "    return self.main(x).view(-1,1,28,28)"
      ]
    },
    {
      "cell_type": "code",
      "execution_count": null,
      "metadata": {
        "id": "HsL1OEw8sVEq"
      },
      "outputs": [],
      "source": [
        "class Discriminator(nn.Module):\n",
        "  def __init__(self):\n",
        "    super(Discriminator,self).__init__()\n",
        "    self.n_input = 784\n",
        "    self.main = nn.Sequential(\n",
        "        nn.Linear(self.n_input,2*28*28),\n",
        "        nn.LeakyReLU(0.2),\n",
        "        nn.Dropout(0.3),\n",
        "        nn.Linear(2*28*28, 512),\n",
        "        nn.LeakyReLU(0.2),\n",
        "        nn.Dropout(0.3),\n",
        "        nn.Linear(512, 256),\n",
        "        nn.LeakyReLU(0.2),\n",
        "        nn.Dropout(0.3),\n",
        "        nn.Linear(256, 1),\n",
        "        nn.Sigmoid(),\n",
        "    )\n",
        "\n",
        "  def forward(self,x):\n",
        "    x = x.view(-1,784)\n",
        "    return self.main(x)"
      ]
    },
    {
      "cell_type": "code",
      "execution_count": null,
      "metadata": {
        "colab": {
          "base_uri": "https://localhost:8080/"
        },
        "id": "giiLXGxnt44E",
        "outputId": "0ee3a1c1-db8d-4fbc-9e1f-c34ab139d6f6"
      },
      "outputs": [
        {
          "name": "stdout",
          "output_type": "stream",
          "text": [
            "Generator(\n",
            "  (main): Sequential(\n",
            "    (0): Linear(in_features=784, out_features=256, bias=True)\n",
            "    (1): LeakyReLU(negative_slope=0.2)\n",
            "    (2): Linear(in_features=256, out_features=512, bias=True)\n",
            "    (3): LeakyReLU(negative_slope=0.2)\n",
            "    (4): Linear(in_features=512, out_features=1024, bias=True)\n",
            "    (5): LeakyReLU(negative_slope=0.2)\n",
            "    (6): Linear(in_features=1024, out_features=784, bias=True)\n",
            "    (7): Sigmoid()\n",
            "  )\n",
            ")\n"
          ]
        }
      ],
      "source": [
        "generator = Generator(nz).to(device)\n",
        "discriminator = Discriminator().to(device)\n",
        "print(generator)"
      ]
    },
    {
      "cell_type": "code",
      "execution_count": null,
      "metadata": {
        "id": "b3EkIkEWuK2Z"
      },
      "outputs": [],
      "source": [
        "optim_g = optim.Adam(generator.parameters(), lr=0.00005)\n",
        "optim_d = optim.Adam(discriminator.parameters(), lr=0.000003)\n",
        "criterion = nn.BCELoss()\n",
        "losses_g = [] # to store generator loss after each epoch\n",
        "losses_d = [] # to store discriminator loss after each epoch\n",
        "images = [] #"
      ]
    },
    {
      "cell_type": "code",
      "execution_count": null,
      "metadata": {
        "id": "gYfQcHckupOd"
      },
      "outputs": [],
      "source": [
        "def label_real(size):\n",
        "    data = torch.ones(size, 1)\n",
        "    return data.to(device)\n",
        "# to create fake labels (0s)\n",
        "def label_fake(size):\n",
        "    data = torch.zeros(size, 1)\n",
        "    return data.to(device)\n",
        "\n",
        "def create_noise(sample_size,nz):\n",
        "  return torch.randn(sample_size,nz).to(device)\n",
        "\n",
        "def save_generator_image(image,path):\n",
        "  save_image(image,path)"
      ]
    },
    {
      "cell_type": "code",
      "execution_count": null,
      "metadata": {
        "id": "IsMQbLaU-ro5"
      },
      "outputs": [],
      "source": [
        "def train_discriminator(optimizer, data_real,data_fake):\n",
        "  b_size = data_real.size(0)\n",
        "  real_label = label_real(b_size)\n",
        "  fake_label = label_fake(b_size)\n",
        "  optimizer.zero_grad()\n",
        "  output_real = discriminator(data_real)\n",
        "  output_fake = discriminator(data_fake)\n",
        "  loss_real = criterion(real_label,output_real)\n",
        "  loss_fake = criterion(fake_label,output_fake)\n",
        "  loss_real.backward()\n",
        "  loss_fake.backward()\n",
        "  optimizer.step()\n",
        "  return loss_real + loss_fake\n",
        "\n",
        "def train_generator(optimizer,data_fake):\n",
        "  b_size = data_fake.size(0)\n",
        "  real_label = label_real(b_size)\n",
        "  optimizer.zero_grad()\n",
        "  output = discriminator(data_fake)\n",
        "  loss = criterion(real_label,output)\n",
        "  loss.backward()\n",
        "  optimizer.step()\n",
        "  return loss"
      ]
    },
    {
      "cell_type": "code",
      "execution_count": null,
      "metadata": {
        "colab": {
          "base_uri": "https://localhost:8080/",
          "height": 525
        },
        "id": "U_gDpHXEKiP7",
        "outputId": "fac2a98e-87dc-48dd-f0a6-6e749cd0c42b"
      },
      "outputs": [
        {
          "data": {
            "text/plain": [
              "Discriminator(\n",
              "  (main): Sequential(\n",
              "    (0): Linear(in_features=784, out_features=1568, bias=True)\n",
              "    (1): LeakyReLU(negative_slope=0.2)\n",
              "    (2): Dropout(p=0.3, inplace=False)\n",
              "    (3): Linear(in_features=1568, out_features=512, bias=True)\n",
              "    (4): LeakyReLU(negative_slope=0.2)\n",
              "    (5): Dropout(p=0.3, inplace=False)\n",
              "    (6): Linear(in_features=512, out_features=256, bias=True)\n",
              "    (7): LeakyReLU(negative_slope=0.2)\n",
              "    (8): Dropout(p=0.3, inplace=False)\n",
              "    (9): Linear(in_features=256, out_features=1, bias=True)\n",
              "    (10): Sigmoid()\n",
              "  )\n",
              ")"
            ]
          },
          "execution_count": 81,
          "metadata": {},
          "output_type": "execute_result"
        },
        {
          "data": {
            "image/png": "[encoded data removed]",
            "text/plain": [
              "<Figure size 432x288 with 1 Axes>"
            ]
          },
          "metadata": {},
          "output_type": "display_data"
        }
      ],
      "source": [
        "noise = create_noise(sample_size,28*28)\n",
        "plt.imshow(noise[0].view(28,28))\n",
        "generator.train()\n",
        "discriminator.train()"
      ]
    },
    {
      "cell_type": "code",
      "execution_count": null,
      "metadata": {
        "id": "C3SXFpyM_n89"
      },
      "outputs": [],
      "source": [
        "from IPython.display import clear_output\n",
        "def plot_all_losses(d_real_loss, d_fake_loss, g_loss_run):\n",
        "    plt.plot(d_real_loss, label = \"D-real-loss\")\n",
        "    plt.plot(d_fake_loss, label = \"D-fake-loss\")\n",
        "    plt.plot(g_loss_run, label = \"G-loss\")\n",
        "    plt.legend()\n",
        "    plt.show()\n",
        "\n",
        "def show_gen_sample(z,G):\n",
        "\n",
        "    samples = G(z[0]).detach()\n",
        "    samples = samples.view([28,28])\n",
        "    sample = samples.numpy()\n",
        "    plt.imshow(sample, cmap = \"gray\")\n",
        "    plt.show()\n"
      ]
    },
    {
      "cell_type": "code",
      "execution_count": null,
      "metadata": {
        "colab": {
          "base_uri": "https://localhost:8080/",
          "height": 530
        },
        "id": "vR2WFSUo6Iwc",
        "outputId": "3fdd5f2b-2573-4c55-a6dc-cda02faabdc1"
      },
      "outputs": [
        {
          "data": {
            "image/png": "[encoded data removed]",
            "text/plain": [
              "<Figure size 432x288 with 1 Axes>"
            ]
          },
          "metadata": {},
          "output_type": "display_data"
        },
        {
          "data": {
            "image/png": "[encoded data removed]",
            "text/plain": [
              "<Figure size 432x288 with 1 Axes>"
            ]
          },
          "metadata": {},
          "output_type": "display_data"
        },
        {
          "name": "stderr",
          "output_type": "stream",
          "text": [
            "100%|██████████| 60/60 [01:32<00:00,  1.54s/it]\n"
          ]
        }
      ],
      "source": [
        "g_loss_run=[]\n",
        "d_real_loss = []\n",
        "d_fake_loss = []\n",
        "\n",
        "for epoch in range(2):\n",
        "  for data in tqdm(train_loader):\n",
        "    print(epoch + 1)\n",
        "    x, _ = data\n",
        "    # print(x.data[0])\n",
        "    # plt.show(x.data[0])\n",
        "    siz = x.size(0)\n",
        "    x = x.view(x.size(0),-1)\n",
        "    one_labels = label_real(siz)\n",
        "    zeroes_labels = label_fake(siz)\n",
        "    z = create_noise(siz,nz)\n",
        "    g_sample = generator(z)\n",
        "    # print(g_sample)\n",
        "    d_fake = discriminator(g_sample)\n",
        "    d_real = discriminator(x)\n",
        "    # print(d_fake)\n",
        "    Dfake_loss = criterion(d_fake,zeroes_labels)\n",
        "    Dreal_loss = criterion(d_real,one_labels)\n",
        "    d_loss = Dfake_loss + Dreal_loss\n",
        "    optim_d.zero_grad()\n",
        "    d_loss.backward()\n",
        "    optim_d.step()\n",
        "    \n",
        "    z = create_noise(siz,nz)\n",
        "    g_sample = generator(z)\n",
        "    d_fake = discriminator(g_sample)\n",
        "    D_loss = criterion(d_fake,one_labels)\n",
        "    optim_g.zero_grad()\n",
        "    D_loss.backward()\n",
        "    optim_g.step()\n",
        "    # g_loss = D_loss\n",
        "\n",
        "    g_loss_run.append(D_loss.detach().numpy())\n",
        "    d_real_loss.append(Dreal_loss.detach().numpy())\n",
        "    d_fake_loss.append(Dfake_loss.detach().numpy())\n",
        "\n",
        "    clear_output(wait = True)\n",
        "    plot_all_losses(d_real_loss, d_fake_loss, g_loss_run)\n",
        "    show_gen_sample(z,generator)\n",
        "\n"
      ]
    },
    {
      "cell_type": "code",
      "execution_count": null,
      "metadata": {
        "colab": {
          "background_save": true
        },
        "id": "z_BWn1Qo9GSS",
        "outputId": "b682cd0c-4767-4c54-f031-0697944fe441"
      },
      "outputs": [
        {
          "data": {
            "image/png": "[encoded data removed]",
            "text/plain": [
              "<Figure size 432x288 with 1 Axes>"
            ]
          },
          "metadata": {},
          "output_type": "display_data"
        }
      ],
      "source": [
        "show_gen_sample(create_noise(1,28*28),generat)\n"
      ]
    },
    {
      "cell_type": "code",
      "execution_count": null,
      "metadata": {
        "id": "jH8n5YWQajjd"
      },
      "outputs": [],
      "source": [
        "# for epoch in range(epochs):\n",
        "#   loss_g = 0.0\n",
        "#   loss_d = 0.0\n",
        "#   for bi, data in tqdm(enumerate(train_loader),total=int(len(train_data)/train_loader.batch_size)):\n",
        "#     image, _ = data\n",
        "#     image = image.to(device)\n",
        "#     b_size = len(image)\n",
        "#     for step in range(k):\n",
        "#       data_fake = generator(create_noise(b_size,nz)).detach()\n",
        "#       data_real = image\n",
        "#       loss_d += train_discriminator(optim_d,data_real,data_fake)\n",
        "\n",
        "#     data_fake = generator(create_noise(b_size,nz))\n",
        "#     loss_g += train_generator(optim_g,data_fake)\n",
        "\n",
        "#     generated_img = generator(noise).cpu().detach()\n",
        "#     # make the images as grid\n",
        "#     generated_img = make_grid(generated_img)\n",
        "#     # save the generated torch tensor models to disk\n",
        "#     save_generator_image(generated_img, f\"./outputs/gen_img{epoch}.png\")\n",
        "#     images.append(generated_img)\n",
        "#     epoch_loss_g = loss_g / bi # total generator loss for the epoch\n",
        "#     epoch_loss_d = loss_d / bi # total discriminator loss for the epoch\n",
        "#     losses_g.append(epoch_loss_g)\n",
        "#     losses_d.append(epoch_loss_d)\n",
        "    \n",
        "#     print(f\"Epoch {epoch} of {epochs}\")\n",
        "#     print(f\"Generator loss: {epoch_loss_g}, Discriminator loss: {epoch_loss_d}\")"
      ]
    },
    {
      "cell_type": "code",
      "execution_count": null,
      "metadata": {
        "id": "h_A6P0jHcevi"
      },
      "outputs": [],
      "source": [
        "# save the generated images as GIF file\n",
        "imgs = [np.array(to_pil_image(img)) for img in images]\n",
        "imageio.mimsave('./outputs/generator_images.gif', imgs)"
      ]
    },
    {
      "cell_type": "code",
      "execution_count": null,
      "metadata": {
        "id": "ddtxCG2xcj0R"
      },
      "outputs": [],
      "source": [
        "plt.figure()\n",
        "plt.plot(losses_g, label='Generator loss')\n",
        "plt.plot(losses_d, label='Discriminator Loss')\n",
        "plt.legend()\n",
        "plt.savefig('./outputs/loss.png')"
      ]
    }
  ],
  "metadata": {
    "colab": {
      "provenance": []
    },
    "kernelspec": {
      "display_name": "Python 3",
      "name": "python3"
    },
    "language_info": {
      "name": "python"
    }
  },
  "nbformat": 4,
  "nbformat_minor": 0
}